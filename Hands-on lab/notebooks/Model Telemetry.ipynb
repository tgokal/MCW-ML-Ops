{
 "cells": [
  {
   "cell_type": "code",
   "execution_count": null,
   "metadata": {},
   "outputs": [],
   "source": [
    "import azureml.core\n",
    "#TODO: Load Workspace, Webservice and AzureCliAuthentication from azureml libraries\n",
    "import requests\n",
    "import json"
   ]
  },
  {
   "cell_type": "code",
   "execution_count": null,
   "metadata": {},
   "outputs": [],
   "source": [
    "#TODO: Set workspace from configuration file\n",
    "print(ws)\n",
    "print('Workspace configuration succeeded')"
   ]
  },
  {
   "cell_type": "code",
   "execution_count": null,
   "metadata": {},
   "outputs": [],
   "source": [
    "#Provide the name of the webservice\n",
    "webservice_name = \"compliance-classifier-service\" # <- the name used by Azure DevOps pipeline\n",
    "\n",
    "webservice_url = \"...\" # <- the url created as a result of publication\n",
    "webservice_key = \"...\" # <- the api key generated as a result of publication"
   ]
  },
  {
   "cell_type": "markdown",
   "metadata": {},
   "source": [
    "### Call the deployed model\n",
    "\n",
    "Since telemetry is not yet activated, no information will be recorded as a result of this call.\n",
    "\n",
    "**Note**: These calls are just used to demonstrate the telemetry functionality. We don't care here about the inputs and outputs of the deployed model."
   ]
  },
  {
   "cell_type": "code",
   "execution_count": null,
   "metadata": {},
   "outputs": [],
   "source": [
    "# This is dummy data, just to test the call\n",
    "test_data =[['manufactured in 2016 made of plastic in good condition']]\n"
   ]
  },
  {
   "cell_type": "code",
   "execution_count": null,
   "metadata": {},
   "outputs": [],
   "source": [
    "headers = {'Content-Type':'application/json', 'Authorization':('Bearer '+ webservice_key)}\n",
    "#TODO: Make a POST request with the URI, test data and feed the header through\n",
    "\n",
    "print('Predictions')\n",
    "print(response.text)"
   ]
  },
  {
   "cell_type": "markdown",
   "metadata": {},
   "source": [
    "### Activate telemetry\n",
    "\n",
    "We are going to activate telemetry on the deployed model. Then we will make another call which will end up being logged by both Application Insights and data collection."
   ]
  },
  {
   "cell_type": "code",
   "execution_count": null,
   "metadata": {},
   "outputs": [],
   "source": [
    "web_service = Webservice(ws, webservice_name)"
   ]
  },
  {
   "cell_type": "code",
   "execution_count": null,
   "metadata": {},
   "outputs": [],
   "source": [
    "#TODO: Update the web_service with App Insights to collect model data\n"
   ]
  },
  {
   "cell_type": "markdown",
   "metadata": {},
   "source": [
    "**Make a few calls that will be collected.**\n",
    "\n",
    "Note that if there are errors running the cell below (for example, Too many requests for service compliance-classifier-service (overloaded) or No ready replicas for service compliance-classifier-service). You should wait for 5 minutes and rerun the cell to make the calls.\n",
    "\n",
    "**When the cell runs without errors, run the cell multiple (e.g. 5) times**"
   ]
  },
  {
   "cell_type": "code",
   "execution_count": null,
   "metadata": {},
   "outputs": [],
   "source": [
    "headers = {'Content-Type':'application/json', 'Authorization':('Bearer '+ webservice_key)}\n",
    "response = requests.post(webservice_url, json.dumps(test_data), headers=headers)\n",
    "print('Predictions')\n",
    "print(response.text)\n",
    "\n",
    "response = requests.post(webservice_url, json.dumps(test_data), headers=headers)\n",
    "print('Predictions')\n",
    "print(response.text)\n",
    "\n",
    "response = requests.post(webservice_url, json.dumps(test_data), headers=headers)\n",
    "print('Predictions')\n",
    "print(response.text)"
   ]
  },
  {
   "cell_type": "code",
   "execution_count": null,
   "metadata": {},
   "outputs": [],
   "source": []
  }
 ],
 "metadata": {
  "kernelspec": {
   "display_name": "Python 3.6 - AzureML",
   "language": "python",
   "name": "python3-azureml"
  },
  "language_info": {
   "codemirror_mode": {
    "name": "ipython",
    "version": 3
   },
   "file_extension": ".py",
   "mimetype": "text/x-python",
   "name": "python",
   "nbconvert_exporter": "python",
   "pygments_lexer": "ipython3",
   "version": "3.6.9"
  }
 },
 "nbformat": 4,
 "nbformat_minor": 2
}
